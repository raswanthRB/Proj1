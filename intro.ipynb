{
 "cells": [
  {
   "cell_type": "code",
   "execution_count": null,
   "metadata": {},
   "outputs": [],
   "source": []
  },
  {
   "cell_type": "code",
   "execution_count": null,
   "metadata": {},
   "outputs": [],
   "source": []
  },
  {
   "cell_type": "code",
   "execution_count": null,
   "metadata": {},
   "outputs": [],
   "source": [
    "df_ind=df[(df['job_country']== \"India\") & (df['job_title_short']== \"Data Analyst\") ]\n",
    "df_plot=df_ind['job_location'].value_counts().head(10).to_frame()  #to make it a dataframe\n",
    "\n",
    "sns.barplot(data=df_plot,x=\"count\",y=\"job_location\",hue=\"count\",palette=\"dark:b_r\",legend= False)\n",
    "sns.set_theme(style='ticks')\n",
    "plt.title('Number of jobs')\n",
    "plt.xlabel(\"Number of Jobs\")\n",
    "plt.ylabel('')\n"
   ]
  },
  {
   "cell_type": "code",
   "execution_count": null,
   "metadata": {},
   "outputs": [],
   "source": [
    "fig,ax=plt.subplots(1,3)\n",
    "fig.set_size_inches((12, 5))\n",
    "sns.set_style(\"whitegrid\")\n",
    "\n",
    "dict_coloumn = {\n",
    "    \"job_work_from_home\": 'Work from Home Offered',\n",
    "    \"job_no_degree_mention\": \"Degree Requirement\",\n",
    "    \"job_health_insurance\": \"Health Insurance Offered\"\n",
    "}\n",
    "\n",
    "for i,(coloumn,title) in enumerate (dict_coloumn.items()):\n",
    "    df_ind[coloumn].value_counts().plot(kind=\"pie\",ax=ax[i],autopct='%1.1f%%', startangle=90, colors=sns.color_palette(\"light:b_r\"))\n",
    "    ax[i].set_title(title)\n",
    "    ax[i].set_ylabel(\"\")\n",
    "\n"
   ]
  },
  {
   "cell_type": "code",
   "execution_count": null,
   "metadata": {},
   "outputs": [],
   "source": [
    "df_plot=df_ind['company_name'].value_counts().head(10).to_frame()\n",
    "sns.set_theme(style='ticks')\n",
    "sns.barplot(data=df_plot,x=\"count\",y=\"company_name\",hue=\"count\",palette=\"dark:b_r\",legend= False)\n",
    "plt.title(\"count of job listings by companies\")\n",
    "plt.xlabel(\"Number of jobs\")\n",
    "plt.ylabel('')\n",
    "plt.show()\n",
    "plt.tight_layout\n"
   ]
  }
 ],
 "metadata": {
  "kernelspec": {
   "display_name": "python_course",
   "language": "python",
   "name": "python3"
  },
  "language_info": {
   "codemirror_mode": {
    "name": "ipython",
    "version": 3
   },
   "file_extension": ".py",
   "mimetype": "text/x-python",
   "name": "python",
   "nbconvert_exporter": "python",
   "pygments_lexer": "ipython3",
   "version": "3.11.11"
  }
 },
 "nbformat": 4,
 "nbformat_minor": 2
}
